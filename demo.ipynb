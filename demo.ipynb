{
 "cells": [
  {
   "cell_type": "code",
   "execution_count": 6,
   "metadata": {},
   "outputs": [
    {
     "name": "stdout",
     "output_type": "stream",
     "text": [
      "\u001b[1m============================= test session starts ==============================\u001b[0m\n",
      "platform linux -- Python 3.13.1, pytest-8.3.5, pluggy-1.5.0\n",
      "rootdir: /home/florian/talks/trainings/2025-04-pyconde/demo/code\n",
      "configfile: pytest.ini\n",
      "plugins: anyio-4.9.0, hypothesis-6.131.3, cov-6.1.1, md-0.2.0, pytest_httpserver-1.1.3, mock-3.14.0, xdist-3.6.1, reportlog-0.4.0, instafail-0.5.0, rich-0.2.0\n",
      "collected 8 items                                                              \u001b[0m\n",
      "\n",
      "basic/failure_demo.py \u001b[31mF\u001b[0m\u001b[31mF\u001b[0m\u001b[31mF\u001b[0m\u001b[31mF\u001b[0m\u001b[31mF\u001b[0m\u001b[31mF\u001b[0m\u001b[31mF\u001b[0m\u001b[31mF\u001b[0m\u001b[31m                                           [100%]\u001b[0m\n",
      "\n",
      "=================================== FAILURES ===================================\n",
      "\u001b[31m\u001b[1m_________________________________ test_eq_text _________________________________\u001b[0m\n",
      "\n",
      "    \u001b[0m\u001b[94mdef\u001b[39;49;00m\u001b[90m \u001b[39;49;00m\u001b[92mtest_eq_text\u001b[39;49;00m():\u001b[90m\u001b[39;49;00m\n",
      ">       \u001b[94massert\u001b[39;49;00m \u001b[33m\"\u001b[39;49;00m\u001b[33mspam\u001b[39;49;00m\u001b[33m\"\u001b[39;49;00m == \u001b[33m\"\u001b[39;49;00m\u001b[33meggs\u001b[39;49;00m\u001b[33m\"\u001b[39;49;00m\u001b[90m\u001b[39;49;00m\n",
      "\u001b[1m\u001b[31mE       AssertionError: assert 'spam' == 'eggs'\u001b[0m\n",
      "\u001b[1m\u001b[31mE         \u001b[0m\n",
      "\u001b[1m\u001b[31mE         - eggs\u001b[0m\n",
      "\u001b[1m\u001b[31mE         + spam\u001b[0m\n",
      "\n",
      "\u001b[1m\u001b[31mbasic/failure_demo.py\u001b[0m:2: AssertionError\n",
      "\u001b[31m\u001b[1m_____________________________ test_eq_similar_text _____________________________\u001b[0m\n",
      "\n",
      "    \u001b[0m\u001b[94mdef\u001b[39;49;00m\u001b[90m \u001b[39;49;00m\u001b[92mtest_eq_similar_text\u001b[39;49;00m():\u001b[90m\u001b[39;49;00m\n",
      ">       \u001b[94massert\u001b[39;49;00m \u001b[33m\"\u001b[39;49;00m\u001b[33mfoo 1 bar\u001b[39;49;00m\u001b[33m\"\u001b[39;49;00m == \u001b[33m\"\u001b[39;49;00m\u001b[33mfoo 2 bar\u001b[39;49;00m\u001b[33m\"\u001b[39;49;00m\u001b[90m\u001b[39;49;00m\n",
      "\u001b[1m\u001b[31mE       AssertionError: assert 'foo 1 bar' == 'foo 2 bar'\u001b[0m\n",
      "\u001b[1m\u001b[31mE         \u001b[0m\n",
      "\u001b[1m\u001b[31mE         - foo 2 bar\u001b[0m\n",
      "\u001b[1m\u001b[31mE         ?     ^\u001b[0m\n",
      "\u001b[1m\u001b[31mE         + foo 1 bar\u001b[0m\n",
      "\u001b[1m\u001b[31mE         ?     ^\u001b[0m\n",
      "\n",
      "\u001b[1m\u001b[31mbasic/failure_demo.py\u001b[0m:6: AssertionError\n",
      "\u001b[31m\u001b[1m______________________________ test_eq_long_text _______________________________\u001b[0m\n",
      "\n",
      "    \u001b[0m\u001b[94mdef\u001b[39;49;00m\u001b[90m \u001b[39;49;00m\u001b[92mtest_eq_long_text\u001b[39;49;00m():\u001b[90m\u001b[39;49;00m\n",
      "        a = \u001b[33m\"\u001b[39;49;00m\u001b[33m1\u001b[39;49;00m\u001b[33m\"\u001b[39;49;00m * \u001b[94m100\u001b[39;49;00m + \u001b[33m\"\u001b[39;49;00m\u001b[33ma\u001b[39;49;00m\u001b[33m\"\u001b[39;49;00m + \u001b[33m\"\u001b[39;49;00m\u001b[33m2\u001b[39;49;00m\u001b[33m\"\u001b[39;49;00m * \u001b[94m100\u001b[39;49;00m\u001b[90m\u001b[39;49;00m\n",
      "        b = \u001b[33m\"\u001b[39;49;00m\u001b[33m1\u001b[39;49;00m\u001b[33m\"\u001b[39;49;00m * \u001b[94m100\u001b[39;49;00m + \u001b[33m\"\u001b[39;49;00m\u001b[33mb\u001b[39;49;00m\u001b[33m\"\u001b[39;49;00m + \u001b[33m\"\u001b[39;49;00m\u001b[33m2\u001b[39;49;00m\u001b[33m\"\u001b[39;49;00m * \u001b[94m100\u001b[39;49;00m\u001b[90m\u001b[39;49;00m\n",
      ">       \u001b[94massert\u001b[39;49;00m a == b\u001b[90m\u001b[39;49;00m\n",
      "\u001b[1m\u001b[31mE       AssertionError: assert '111111111111...2222222222222' == '111111111111...2222222222222'\u001b[0m\n",
      "\u001b[1m\u001b[31mE         \u001b[0m\n",
      "\u001b[1m\u001b[31mE         Skipping 90 identical leading characters in diff, use -v to show\u001b[0m\n",
      "\u001b[1m\u001b[31mE         Skipping 91 identical trailing characters in diff, use -v to show\u001b[0m\n",
      "\u001b[1m\u001b[31mE         - 1111111111b222222222\u001b[0m\n",
      "\u001b[1m\u001b[31mE         ?           ^\u001b[0m\n",
      "\u001b[1m\u001b[31mE         + 1111111111a222222222\u001b[0m\n",
      "\u001b[1m\u001b[31mE         ?           ^\u001b[0m\n",
      "\n",
      "\u001b[1m\u001b[31mbasic/failure_demo.py\u001b[0m:12: AssertionError\n",
      "\u001b[31m\u001b[1m_________________________________ test_eq_list _________________________________\u001b[0m\n",
      "\n",
      "    \u001b[0m\u001b[94mdef\u001b[39;49;00m\u001b[90m \u001b[39;49;00m\u001b[92mtest_eq_list\u001b[39;49;00m():\u001b[90m\u001b[39;49;00m\n",
      ">       \u001b[94massert\u001b[39;49;00m [\u001b[94m0\u001b[39;49;00m, \u001b[94m1\u001b[39;49;00m, \u001b[94m2\u001b[39;49;00m] == [\u001b[94m0\u001b[39;49;00m, \u001b[94m1\u001b[39;49;00m, \u001b[94m3\u001b[39;49;00m]\u001b[90m\u001b[39;49;00m\n",
      "\u001b[1m\u001b[31mE       assert [0, 1, 2] == [0, 1, 3]\u001b[0m\n",
      "\u001b[1m\u001b[31mE         \u001b[0m\n",
      "\u001b[1m\u001b[31mE         At index 2 diff: \u001b[0m\u001b[94m2\u001b[39;49;00m\u001b[90m\u001b[39;49;00m != \u001b[0m\u001b[94m3\u001b[39;49;00m\u001b[90m\u001b[39;49;00m\u001b[0m\n",
      "\u001b[1m\u001b[31mE         Use -v to get more diff\u001b[0m\n",
      "\n",
      "\u001b[1m\u001b[31mbasic/failure_demo.py\u001b[0m:16: AssertionError\n",
      "\u001b[31m\u001b[1m_________________________________ test_eq_dict _________________________________\u001b[0m\n",
      "\n",
      "    \u001b[0m\u001b[94mdef\u001b[39;49;00m\u001b[90m \u001b[39;49;00m\u001b[92mtest_eq_dict\u001b[39;49;00m():\u001b[90m\u001b[39;49;00m\n",
      ">       \u001b[94massert\u001b[39;49;00m {\u001b[33m\"\u001b[39;49;00m\u001b[33ma\u001b[39;49;00m\u001b[33m\"\u001b[39;49;00m: \u001b[94m0\u001b[39;49;00m, \u001b[33m\"\u001b[39;49;00m\u001b[33mb\u001b[39;49;00m\u001b[33m\"\u001b[39;49;00m: \u001b[94m1\u001b[39;49;00m} == {\u001b[33m\"\u001b[39;49;00m\u001b[33ma\u001b[39;49;00m\u001b[33m\"\u001b[39;49;00m: \u001b[94m0\u001b[39;49;00m, \u001b[33m\"\u001b[39;49;00m\u001b[33mb\u001b[39;49;00m\u001b[33m\"\u001b[39;49;00m: \u001b[94m2\u001b[39;49;00m}\u001b[90m\u001b[39;49;00m\n",
      "\u001b[1m\u001b[31mE       AssertionError: assert {'a': 0, 'b': 1} == {'a': 0, 'b': 2}\u001b[0m\n",
      "\u001b[1m\u001b[31mE         \u001b[0m\n",
      "\u001b[1m\u001b[31mE         Omitting 1 identical items, use -vv to show\u001b[0m\n",
      "\u001b[1m\u001b[31mE         Differing items:\u001b[0m\n",
      "\u001b[1m\u001b[31mE         \u001b[0m{\u001b[33m'\u001b[39;49;00m\u001b[33mb\u001b[39;49;00m\u001b[33m'\u001b[39;49;00m: \u001b[94m1\u001b[39;49;00m}\u001b[90m\u001b[39;49;00m != \u001b[0m{\u001b[33m'\u001b[39;49;00m\u001b[33mb\u001b[39;49;00m\u001b[33m'\u001b[39;49;00m: \u001b[94m2\u001b[39;49;00m}\u001b[90m\u001b[39;49;00m\u001b[0m\n",
      "\u001b[1m\u001b[31mE         Use -v to get more diff\u001b[0m\n",
      "\n",
      "\u001b[1m\u001b[31mbasic/failure_demo.py\u001b[0m:20: AssertionError\n",
      "\u001b[31m\u001b[1m_________________________________ test_eq_set __________________________________\u001b[0m\n",
      "\n",
      "    \u001b[0m\u001b[94mdef\u001b[39;49;00m\u001b[90m \u001b[39;49;00m\u001b[92mtest_eq_set\u001b[39;49;00m():\u001b[90m\u001b[39;49;00m\n",
      ">       \u001b[94massert\u001b[39;49;00m {\u001b[94m0\u001b[39;49;00m, \u001b[94m10\u001b[39;49;00m, \u001b[94m11\u001b[39;49;00m, \u001b[94m12\u001b[39;49;00m} == {\u001b[94m0\u001b[39;49;00m, \u001b[94m20\u001b[39;49;00m, \u001b[94m21\u001b[39;49;00m}\u001b[90m\u001b[39;49;00m\n",
      "\u001b[1m\u001b[31mE       assert {0, 10, 11, 12} == {0, 20, 21}\u001b[0m\n",
      "\u001b[1m\u001b[31mE         \u001b[0m\n",
      "\u001b[1m\u001b[31mE         Extra items in the left set:\u001b[0m\n",
      "\u001b[1m\u001b[31mE         \u001b[0m\u001b[94m10\u001b[39;49;00m\u001b[90m\u001b[39;49;00m\u001b[0m\n",
      "\u001b[1m\u001b[31mE         \u001b[0m\u001b[94m11\u001b[39;49;00m\u001b[90m\u001b[39;49;00m\u001b[0m\n",
      "\u001b[1m\u001b[31mE         \u001b[0m\u001b[94m12\u001b[39;49;00m\u001b[90m\u001b[39;49;00m\u001b[0m\n",
      "\u001b[1m\u001b[31mE         Extra items in the right set:\u001b[0m\n",
      "\u001b[1m\u001b[31mE         \u001b[0m\u001b[94m20\u001b[39;49;00m\u001b[90m\u001b[39;49;00m\u001b[0m\n",
      "\u001b[1m\u001b[31mE         \u001b[0m\u001b[94m21\u001b[39;49;00m\u001b[90m\u001b[39;49;00m\u001b[0m\n",
      "\u001b[1m\u001b[31mE         Use -v to get more diff\u001b[0m\n",
      "\n",
      "\u001b[1m\u001b[31mbasic/failure_demo.py\u001b[0m:24: AssertionError\n",
      "\u001b[31m\u001b[1m_____________________________ test_eq_longer_list ______________________________\u001b[0m\n",
      "\n",
      "    \u001b[0m\u001b[94mdef\u001b[39;49;00m\u001b[90m \u001b[39;49;00m\u001b[92mtest_eq_longer_list\u001b[39;49;00m():\u001b[90m\u001b[39;49;00m\n",
      ">       \u001b[94massert\u001b[39;49;00m [\u001b[94m1\u001b[39;49;00m, \u001b[94m2\u001b[39;49;00m] == [\u001b[94m1\u001b[39;49;00m, \u001b[94m2\u001b[39;49;00m, \u001b[94m3\u001b[39;49;00m]\u001b[90m\u001b[39;49;00m\n",
      "\u001b[1m\u001b[31mE       assert [1, 2] == [1, 2, 3]\u001b[0m\n",
      "\u001b[1m\u001b[31mE         \u001b[0m\n",
      "\u001b[1m\u001b[31mE         Right contains one more item: \u001b[0m\u001b[94m3\u001b[39;49;00m\u001b[90m\u001b[39;49;00m\u001b[0m\n",
      "\u001b[1m\u001b[31mE         Use -v to get more diff\u001b[0m\n",
      "\n",
      "\u001b[1m\u001b[31mbasic/failure_demo.py\u001b[0m:28: AssertionError\n",
      "\u001b[31m\u001b[1m___________________________ test_not_in_text_single ____________________________\u001b[0m\n",
      "\n",
      "    \u001b[0m\u001b[94mdef\u001b[39;49;00m\u001b[90m \u001b[39;49;00m\u001b[92mtest_not_in_text_single\u001b[39;49;00m():\u001b[90m\u001b[39;49;00m\n",
      "        text = \u001b[33m\"\u001b[39;49;00m\u001b[33msingle foo line\u001b[39;49;00m\u001b[33m\"\u001b[39;49;00m\u001b[90m\u001b[39;49;00m\n",
      ">       \u001b[94massert\u001b[39;49;00m \u001b[33m\"\u001b[39;49;00m\u001b[33mfoo\u001b[39;49;00m\u001b[33m\"\u001b[39;49;00m \u001b[95mnot\u001b[39;49;00m \u001b[95min\u001b[39;49;00m text\u001b[90m\u001b[39;49;00m\n",
      "\u001b[1m\u001b[31mE       AssertionError: assert 'foo' not in 'single foo line'\u001b[0m\n",
      "\u001b[1m\u001b[31mE         \u001b[0m\n",
      "\u001b[1m\u001b[31mE         'foo' is contained here:\u001b[0m\n",
      "\u001b[1m\u001b[31mE           single foo line\u001b[0m\n",
      "\u001b[1m\u001b[31mE         ?        +++\u001b[0m\n",
      "\n",
      "\u001b[1m\u001b[31mbasic/failure_demo.py\u001b[0m:33: AssertionError\n",
      "\u001b[36m\u001b[1m=========================== short test summary info ============================\u001b[0m\n",
      "\u001b[31mFAILED\u001b[0m basic/failure_demo.py::\u001b[1mtest_eq_text\u001b[0m - AssertionError: assert 'spam' == 'eggs'\n",
      "\u001b[31mFAILED\u001b[0m basic/failure_demo.py::\u001b[1mtest_eq_similar_text\u001b[0m - AssertionError: assert 'foo 1 bar' == 'foo 2 bar'\n",
      "\u001b[31mFAILED\u001b[0m basic/failure_demo.py::\u001b[1mtest_eq_long_text\u001b[0m - AssertionError: assert '111111111111...2222222222222' == '111111111111...22...\n",
      "\u001b[31mFAILED\u001b[0m basic/failure_demo.py::\u001b[1mtest_eq_list\u001b[0m - assert [0, 1, 2] == [0, 1, 3]\n",
      "\u001b[31mFAILED\u001b[0m basic/failure_demo.py::\u001b[1mtest_eq_dict\u001b[0m - AssertionError: assert {'a': 0, 'b': 1} == {'a': 0, 'b': 2}\n",
      "\u001b[31mFAILED\u001b[0m basic/failure_demo.py::\u001b[1mtest_eq_set\u001b[0m - assert {0, 10, 11, 12} == {0, 20, 21}\n",
      "\u001b[31mFAILED\u001b[0m basic/failure_demo.py::\u001b[1mtest_eq_longer_list\u001b[0m - assert [1, 2] == [1, 2, 3]\n",
      "\u001b[31mFAILED\u001b[0m basic/failure_demo.py::\u001b[1mtest_not_in_text_single\u001b[0m - AssertionError: assert 'foo' not in 'single foo line'\n",
      "\u001b[31m============================== \u001b[31m\u001b[1m8 failed\u001b[0m\u001b[31m in 0.09s\u001b[0m\u001b[31m ===============================\u001b[0m\n"
     ]
    }
   ],
   "source": [
    "!pytest basic/failure_demo.py"
   ]
  },
  {
   "cell_type": "code",
   "execution_count": 7,
   "metadata": {},
   "outputs": [
    {
     "name": "stdout",
     "output_type": "stream",
     "text": [
      "\u001b[1m============================= test session starts ==============================\u001b[0m\n",
      "platform linux -- Python 3.13.1, pytest-8.3.5, pluggy-1.5.0\n",
      "rootdir: /home/florian/talks/trainings/2025-04-pyconde/demo/code\n",
      "configfile: pytest.ini\n",
      "plugins: anyio-4.9.0, hypothesis-6.131.3, cov-6.1.1, md-0.2.0, pytest_httpserver-1.1.3, mock-3.14.0, xdist-3.6.1, reportlog-0.4.0, instafail-0.5.0, rich-0.2.0\n",
      "collected 2 items                                                              \u001b[0m\n",
      "\n",
      "basic/test_traceback.py \u001b[31mF\u001b[0m\u001b[32m.\u001b[0m\u001b[31m                                               [100%]\u001b[0m\n",
      "\n",
      "=================================== FAILURES ===================================\n",
      "\u001b[31m\u001b[1m_________________________________ test_divide __________________________________\u001b[0m\n",
      "\n",
      "    \u001b[0m\u001b[94mdef\u001b[39;49;00m\u001b[90m \u001b[39;49;00m\u001b[92mtest_divide\u001b[39;49;00m():\u001b[90m\u001b[39;49;00m\n",
      "        \u001b[90m# This will raise ZeroDivisionError\u001b[39;49;00m\u001b[90m\u001b[39;49;00m\n",
      ">       \u001b[94massert\u001b[39;49;00m calc(\u001b[94m2\u001b[39;49;00m, \u001b[94m0\u001b[39;49;00m, \u001b[33m\"\u001b[39;49;00m\u001b[33m/\u001b[39;49;00m\u001b[33m\"\u001b[39;49;00m) == \u001b[94m0\u001b[39;49;00m\u001b[90m\u001b[39;49;00m\n",
      "\n",
      "\u001b[1m\u001b[31mbasic/test_traceback.py\u001b[0m:5: \n",
      "_ _ _ _ _ _ _ _ _ _ _ _ _ _ _ _ _ _ _ _ _ _ _ _ _ _ _ _ _ _ _ _ _ _ _ _ _ _ _ _ \n",
      "\n",
      "a = 2, b = 0, op = '/'\n",
      "\n",
      "    \u001b[0m\u001b[94mdef\u001b[39;49;00m\u001b[90m \u001b[39;49;00m\u001b[92mcalc\u001b[39;49;00m(a, b, op):\u001b[90m\u001b[39;49;00m\n",
      "        \u001b[94mif\u001b[39;49;00m op == \u001b[33m\"\u001b[39;49;00m\u001b[33m+\u001b[39;49;00m\u001b[33m\"\u001b[39;49;00m:\u001b[90m\u001b[39;49;00m\n",
      "            \u001b[94mreturn\u001b[39;49;00m a + b\u001b[90m\u001b[39;49;00m\n",
      "        \u001b[94melif\u001b[39;49;00m op == \u001b[33m\"\u001b[39;49;00m\u001b[33m-\u001b[39;49;00m\u001b[33m\"\u001b[39;49;00m:\u001b[90m\u001b[39;49;00m\n",
      "            \u001b[94mreturn\u001b[39;49;00m a - b\u001b[90m\u001b[39;49;00m\n",
      "        \u001b[94melif\u001b[39;49;00m op == \u001b[33m\"\u001b[39;49;00m\u001b[33m*\u001b[39;49;00m\u001b[33m\"\u001b[39;49;00m:\u001b[90m\u001b[39;49;00m\n",
      "            \u001b[94mreturn\u001b[39;49;00m a * b\u001b[90m\u001b[39;49;00m\n",
      "        \u001b[94melif\u001b[39;49;00m op == \u001b[33m\"\u001b[39;49;00m\u001b[33m/\u001b[39;49;00m\u001b[33m\"\u001b[39;49;00m:\u001b[90m\u001b[39;49;00m\n",
      ">           \u001b[94mreturn\u001b[39;49;00m a / b\u001b[90m\u001b[39;49;00m\n",
      "\u001b[1m\u001b[31mE           ZeroDivisionError: division by zero\u001b[0m\n",
      "\n",
      "\u001b[1m\u001b[31mrpncalc/utils.py\u001b[0m:13: ZeroDivisionError\n",
      "\u001b[36m\u001b[1m=========================== short test summary info ============================\u001b[0m\n",
      "\u001b[31mFAILED\u001b[0m basic/test_traceback.py::\u001b[1mtest_divide\u001b[0m - ZeroDivisionError: division by zero\n",
      "\u001b[31m========================= \u001b[31m\u001b[1m1 failed\u001b[0m, \u001b[32m1 passed\u001b[0m\u001b[31m in 0.08s\u001b[0m\u001b[31m ==========================\u001b[0m\n"
     ]
    }
   ],
   "source": [
    "!pytest basic/test_traceback.py"
   ]
  },
  {
   "cell_type": "code",
   "execution_count": 8,
   "metadata": {},
   "outputs": [],
   "source": [
    "def parse_pos_number(s: str) -> int:\n",
    "    n = int(s)\n",
    "    if n < 0:\n",
    "        raise ValueError(f\"No negativity allowed, but got {n}\")\n",
    "    return n"
   ]
  },
  {
   "cell_type": "code",
   "execution_count": 10,
   "metadata": {},
   "outputs": [
    {
     "ename": "ValueError",
     "evalue": "No negativity allowed, but got -1",
     "output_type": "error",
     "traceback": [
      "\u001b[31m---------------------------------------------------------------------------\u001b[39m",
      "\u001b[31mValueError\u001b[39m                                Traceback (most recent call last)",
      "\u001b[36mCell\u001b[39m\u001b[36m \u001b[39m\u001b[32mIn[10]\u001b[39m\u001b[32m, line 1\u001b[39m\n\u001b[32m----> \u001b[39m\u001b[32m1\u001b[39m \u001b[43mparse_pos_number\u001b[49m\u001b[43m(\u001b[49m\u001b[33;43m\"\u001b[39;49m\u001b[33;43m-1\u001b[39;49m\u001b[33;43m\"\u001b[39;49m\u001b[43m)\u001b[49m\n",
      "\u001b[36mCell\u001b[39m\u001b[36m \u001b[39m\u001b[32mIn[8]\u001b[39m\u001b[32m, line 4\u001b[39m, in \u001b[36mparse_pos_number\u001b[39m\u001b[34m(s)\u001b[39m\n\u001b[32m      2\u001b[39m n = \u001b[38;5;28mint\u001b[39m(s)\n\u001b[32m      3\u001b[39m \u001b[38;5;28;01mif\u001b[39;00m n < \u001b[32m0\u001b[39m:\n\u001b[32m----> \u001b[39m\u001b[32m4\u001b[39m     \u001b[38;5;28;01mraise\u001b[39;00m \u001b[38;5;167;01mValueError\u001b[39;00m(\u001b[33mf\u001b[39m\u001b[33m\"\u001b[39m\u001b[33mNo negativity allowed, but got \u001b[39m\u001b[38;5;132;01m{\u001b[39;00mn\u001b[38;5;132;01m}\u001b[39;00m\u001b[33m\"\u001b[39m)\n\u001b[32m      5\u001b[39m \u001b[38;5;28;01mreturn\u001b[39;00m n\n",
      "\u001b[31mValueError\u001b[39m: No negativity allowed, but got -1"
     ]
    }
   ],
   "source": [
    "parse_pos_number(\"-1\")"
   ]
  },
  {
   "cell_type": "code",
   "execution_count": 11,
   "metadata": {},
   "outputs": [
    {
     "ename": "ValueError",
     "evalue": "invalid literal for int() with base 10: 'a'",
     "output_type": "error",
     "traceback": [
      "\u001b[31m---------------------------------------------------------------------------\u001b[39m",
      "\u001b[31mValueError\u001b[39m                                Traceback (most recent call last)",
      "\u001b[36mCell\u001b[39m\u001b[36m \u001b[39m\u001b[32mIn[11]\u001b[39m\u001b[32m, line 1\u001b[39m\n\u001b[32m----> \u001b[39m\u001b[32m1\u001b[39m \u001b[43mparse_pos_number\u001b[49m\u001b[43m(\u001b[49m\u001b[33;43m\"\u001b[39;49m\u001b[33;43ma\u001b[39;49m\u001b[33;43m\"\u001b[39;49m\u001b[43m)\u001b[49m\n",
      "\u001b[36mCell\u001b[39m\u001b[36m \u001b[39m\u001b[32mIn[8]\u001b[39m\u001b[32m, line 2\u001b[39m, in \u001b[36mparse_pos_number\u001b[39m\u001b[34m(s)\u001b[39m\n\u001b[32m      1\u001b[39m \u001b[38;5;28;01mdef\u001b[39;00m\u001b[38;5;250m \u001b[39m\u001b[34mparse_pos_number\u001b[39m(s: \u001b[38;5;28mstr\u001b[39m) -> \u001b[38;5;28mint\u001b[39m:\n\u001b[32m----> \u001b[39m\u001b[32m2\u001b[39m     n = \u001b[38;5;28;43mint\u001b[39;49m\u001b[43m(\u001b[49m\u001b[43ms\u001b[49m\u001b[43m)\u001b[49m\n\u001b[32m      3\u001b[39m     \u001b[38;5;28;01mif\u001b[39;00m n < \u001b[32m0\u001b[39m:\n\u001b[32m      4\u001b[39m         \u001b[38;5;28;01mraise\u001b[39;00m \u001b[38;5;167;01mValueError\u001b[39;00m(\u001b[33mf\u001b[39m\u001b[33m\"\u001b[39m\u001b[33mNo negativity allowed, but got \u001b[39m\u001b[38;5;132;01m{\u001b[39;00mn\u001b[38;5;132;01m}\u001b[39;00m\u001b[33m\"\u001b[39m)\n",
      "\u001b[31mValueError\u001b[39m: invalid literal for int() with base 10: 'a'"
     ]
    }
   ],
   "source": [
    "parse_pos_number(\"a\")"
   ]
  },
  {
   "cell_type": "code",
   "execution_count": 18,
   "metadata": {},
   "outputs": [
    {
     "name": "stdout",
     "output_type": "stream",
     "text": [
      "\u001b[1m======================================= test session starts ========================================\u001b[0m\n",
      "collected 3 items\n",
      "\n",
      "t_93d3b7bd4c514980808c47d1fe1c54f9.py \u001b[32m.\u001b[0m\u001b[32m.\u001b[0m\u001b[32m.\u001b[0m\u001b[32m                                                    [100%]\u001b[0m\n",
      "\n",
      "\u001b[32m======================================== \u001b[32m\u001b[1m3 passed\u001b[0m\u001b[32m in 0.01s\u001b[0m\u001b[32m =========================================\u001b[0m\n"
     ]
    }
   ],
   "source": [
    "%%ipytest\n",
    "import pytest\n",
    "\n",
    "def test_good():\n",
    "    assert parse_pos_number(\"5\") == 5\n",
    "\n",
    "def test_negative():\n",
    "    with pytest.raises(ValueError, match=r\"No negativity allowed\"):\n",
    "        parse_pos_number(\"-2\")\n",
    "\n",
    "def test_other_string():\n",
    "    with pytest.raises(ValueError, match=\"invalid literal for int\"):\n",
    "        parse_pos_number(\"a\")"
   ]
  },
  {
   "cell_type": "markdown",
   "metadata": {},
   "source": [
    "# pytest-xdist"
   ]
  }
 ],
 "metadata": {
  "kernelspec": {
   "display_name": "Python 3 (ipykernel)",
   "language": "python",
   "name": "python3"
  },
  "language_info": {
   "codemirror_mode": {
    "name": "ipython",
    "version": 3
   },
   "file_extension": ".py",
   "mimetype": "text/x-python",
   "name": "python",
   "nbconvert_exporter": "python",
   "pygments_lexer": "ipython3",
   "version": "3.13.1"
  }
 },
 "nbformat": 4,
 "nbformat_minor": 4
}
