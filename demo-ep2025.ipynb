{
 "cells": [
  {
   "cell_type": "code",
   "execution_count": 5,
   "metadata": {},
   "outputs": [
    {
     "name": "stdout",
     "output_type": "stream",
     "text": [
      "\u001b[1m============================= test session starts ==============================\u001b[0m\n",
      "platform linux -- Python 3.13.1, pytest-8.4.1, pluggy-1.6.0\n",
      "rootdir: /home/florian/talks/trainings/2025-07-ep2025/demo/code\n",
      "configfile: pytest.ini\n",
      "plugins: anyio-4.9.0, md-0.2.0, xdist-3.8.0, pytest_httpserver-1.1.3, mock-3.14.1, reportlog-0.4.0, instafail-0.5.0, hypothesis-6.135.20, rich-0.2.0, cov-6.2.1\n",
      "collected 8 items                                                              \u001b[0m\n",
      "\n",
      "basic/failure_demo.py \u001b[31mF\u001b[0m\u001b[31mF\u001b[0m\u001b[31mF\u001b[0m\u001b[31mF\u001b[0m\u001b[31mF\u001b[0m\u001b[31mF\u001b[0m\u001b[31mF\u001b[0m\u001b[31mF\u001b[0m\u001b[31m                                           [100%]\u001b[0m\n",
      "\n",
      "=================================== FAILURES ===================================\n",
      "\u001b[31m\u001b[1m_________________________________ test_eq_text _________________________________\u001b[0m\n",
      "\n",
      "    \u001b[0m\u001b[94mdef\u001b[39;49;00m\u001b[90m \u001b[39;49;00m\u001b[92mtest_eq_text\u001b[39;49;00m():\u001b[90m\u001b[39;49;00m\n",
      ">       \u001b[94massert\u001b[39;49;00m \u001b[33m\"\u001b[39;49;00m\u001b[33mspam\u001b[39;49;00m\u001b[33m\"\u001b[39;49;00m == \u001b[33m\"\u001b[39;49;00m\u001b[33meggs\u001b[39;49;00m\u001b[33m\"\u001b[39;49;00m\u001b[90m\u001b[39;49;00m\n",
      "\u001b[1m\u001b[31mE       AssertionError: assert 'spam' == 'eggs'\u001b[0m\n",
      "\u001b[1m\u001b[31mE         \u001b[0m\n",
      "\u001b[1m\u001b[31mE         \u001b[0m\u001b[91m- eggs\u001b[39;49;00m\u001b[90m\u001b[39;49;00m\u001b[0m\n",
      "\u001b[1m\u001b[31mE         \u001b[92m+ spam\u001b[39;49;00m\u001b[90m\u001b[39;49;00m\u001b[0m\n",
      "\n",
      "\u001b[1m\u001b[31mbasic/failure_demo.py\u001b[0m:2: AssertionError\n",
      "\u001b[31m\u001b[1m_____________________________ test_eq_similar_text _____________________________\u001b[0m\n",
      "\n",
      "    \u001b[0m\u001b[94mdef\u001b[39;49;00m\u001b[90m \u001b[39;49;00m\u001b[92mtest_eq_similar_text\u001b[39;49;00m():\u001b[90m\u001b[39;49;00m\n",
      ">       \u001b[94massert\u001b[39;49;00m \u001b[33m\"\u001b[39;49;00m\u001b[33mfoo 1 bar\u001b[39;49;00m\u001b[33m\"\u001b[39;49;00m == \u001b[33m\"\u001b[39;49;00m\u001b[33mfoo 2 bar\u001b[39;49;00m\u001b[33m\"\u001b[39;49;00m\u001b[90m\u001b[39;49;00m\n",
      "\u001b[1m\u001b[31mE       AssertionError: assert 'foo 1 bar' == 'foo 2 bar'\u001b[0m\n",
      "\u001b[1m\u001b[31mE         \u001b[0m\n",
      "\u001b[1m\u001b[31mE         \u001b[0m\u001b[91m- foo 2 bar\u001b[39;49;00m\u001b[90m\u001b[39;49;00m\u001b[0m\n",
      "\u001b[1m\u001b[31mE         ?     ^\u001b[90m\u001b[39;49;00m\u001b[0m\n",
      "\u001b[1m\u001b[31mE         \u001b[92m+ foo 1 bar\u001b[39;49;00m\u001b[90m\u001b[39;49;00m\u001b[0m\n",
      "\u001b[1m\u001b[31mE         ?     ^\u001b[90m\u001b[39;49;00m\u001b[0m\n",
      "\n",
      "\u001b[1m\u001b[31mbasic/failure_demo.py\u001b[0m:6: AssertionError\n",
      "\u001b[31m\u001b[1m______________________________ test_eq_long_text _______________________________\u001b[0m\n",
      "\n",
      "    \u001b[0m\u001b[94mdef\u001b[39;49;00m\u001b[90m \u001b[39;49;00m\u001b[92mtest_eq_long_text\u001b[39;49;00m():\u001b[90m\u001b[39;49;00m\n",
      "        a = \u001b[33m\"\u001b[39;49;00m\u001b[33m1\u001b[39;49;00m\u001b[33m\"\u001b[39;49;00m * \u001b[94m100\u001b[39;49;00m + \u001b[33m\"\u001b[39;49;00m\u001b[33ma\u001b[39;49;00m\u001b[33m\"\u001b[39;49;00m + \u001b[33m\"\u001b[39;49;00m\u001b[33m2\u001b[39;49;00m\u001b[33m\"\u001b[39;49;00m * \u001b[94m100\u001b[39;49;00m\u001b[90m\u001b[39;49;00m\n",
      "        b = \u001b[33m\"\u001b[39;49;00m\u001b[33m1\u001b[39;49;00m\u001b[33m\"\u001b[39;49;00m * \u001b[94m100\u001b[39;49;00m + \u001b[33m\"\u001b[39;49;00m\u001b[33mb\u001b[39;49;00m\u001b[33m\"\u001b[39;49;00m + \u001b[33m\"\u001b[39;49;00m\u001b[33m2\u001b[39;49;00m\u001b[33m\"\u001b[39;49;00m * \u001b[94m100\u001b[39;49;00m\u001b[90m\u001b[39;49;00m\n",
      ">       \u001b[94massert\u001b[39;49;00m a == b\u001b[90m\u001b[39;49;00m\n",
      "\u001b[1m\u001b[31mE       AssertionError: assert '111111111111...2222222222222' == '111111111111...2222222222222'\u001b[0m\n",
      "\u001b[1m\u001b[31mE         \u001b[0m\n",
      "\u001b[1m\u001b[31mE         Skipping 90 identical leading characters in diff, use -v to show\u001b[0m\n",
      "\u001b[1m\u001b[31mE         Skipping 91 identical trailing characters in diff, use -v to show\u001b[0m\n",
      "\u001b[1m\u001b[31mE         \u001b[0m\u001b[91m- 1111111111b222222222\u001b[39;49;00m\u001b[90m\u001b[39;49;00m\u001b[0m\n",
      "\u001b[1m\u001b[31mE         ?           ^\u001b[90m\u001b[39;49;00m\u001b[0m\n",
      "\u001b[1m\u001b[31mE         \u001b[92m+ 1111111111a222222222\u001b[39;49;00m\u001b[90m\u001b[39;49;00m\u001b[0m\n",
      "\u001b[1m\u001b[31mE         ?           ^\u001b[90m\u001b[39;49;00m\u001b[0m\n",
      "\n",
      "\u001b[1m\u001b[31mbasic/failure_demo.py\u001b[0m:12: AssertionError\n",
      "\u001b[31m\u001b[1m_________________________________ test_eq_list _________________________________\u001b[0m\n",
      "\n",
      "    \u001b[0m\u001b[94mdef\u001b[39;49;00m\u001b[90m \u001b[39;49;00m\u001b[92mtest_eq_list\u001b[39;49;00m():\u001b[90m\u001b[39;49;00m\n",
      ">       \u001b[94massert\u001b[39;49;00m [\u001b[94m0\u001b[39;49;00m, \u001b[94m1\u001b[39;49;00m, \u001b[94m2\u001b[39;49;00m] == [\u001b[94m0\u001b[39;49;00m, \u001b[94m1\u001b[39;49;00m, \u001b[94m3\u001b[39;49;00m]\u001b[90m\u001b[39;49;00m\n",
      "\u001b[1m\u001b[31mE       assert [0, 1, 2] == [0, 1, 3]\u001b[0m\n",
      "\u001b[1m\u001b[31mE         \u001b[0m\n",
      "\u001b[1m\u001b[31mE         At index 2 diff: \u001b[0m\u001b[94m2\u001b[39;49;00m\u001b[90m\u001b[39;49;00m != \u001b[0m\u001b[94m3\u001b[39;49;00m\u001b[90m\u001b[39;49;00m\u001b[0m\n",
      "\u001b[1m\u001b[31mE         Use -v to get more diff\u001b[0m\n",
      "\n",
      "\u001b[1m\u001b[31mbasic/failure_demo.py\u001b[0m:16: AssertionError\n",
      "\u001b[31m\u001b[1m_________________________________ test_eq_dict _________________________________\u001b[0m\n",
      "\n",
      "    \u001b[0m\u001b[94mdef\u001b[39;49;00m\u001b[90m \u001b[39;49;00m\u001b[92mtest_eq_dict\u001b[39;49;00m():\u001b[90m\u001b[39;49;00m\n",
      ">       \u001b[94massert\u001b[39;49;00m {\u001b[33m\"\u001b[39;49;00m\u001b[33ma\u001b[39;49;00m\u001b[33m\"\u001b[39;49;00m: \u001b[94m0\u001b[39;49;00m, \u001b[33m\"\u001b[39;49;00m\u001b[33mb\u001b[39;49;00m\u001b[33m\"\u001b[39;49;00m: \u001b[94m1\u001b[39;49;00m} == {\u001b[33m\"\u001b[39;49;00m\u001b[33ma\u001b[39;49;00m\u001b[33m\"\u001b[39;49;00m: \u001b[94m0\u001b[39;49;00m, \u001b[33m\"\u001b[39;49;00m\u001b[33mb\u001b[39;49;00m\u001b[33m\"\u001b[39;49;00m: \u001b[94m2\u001b[39;49;00m}\u001b[90m\u001b[39;49;00m\n",
      "\u001b[1m\u001b[31mE       AssertionError: assert {'a': 0, 'b': 1} == {'a': 0, 'b': 2}\u001b[0m\n",
      "\u001b[1m\u001b[31mE         \u001b[0m\n",
      "\u001b[1m\u001b[31mE         Omitting 1 identical items, use -vv to show\u001b[0m\n",
      "\u001b[1m\u001b[31mE         Differing items:\u001b[0m\n",
      "\u001b[1m\u001b[31mE         \u001b[0m{\u001b[33m'\u001b[39;49;00m\u001b[33mb\u001b[39;49;00m\u001b[33m'\u001b[39;49;00m: \u001b[94m1\u001b[39;49;00m}\u001b[90m\u001b[39;49;00m != \u001b[0m{\u001b[33m'\u001b[39;49;00m\u001b[33mb\u001b[39;49;00m\u001b[33m'\u001b[39;49;00m: \u001b[94m2\u001b[39;49;00m}\u001b[90m\u001b[39;49;00m\u001b[0m\n",
      "\u001b[1m\u001b[31mE         Use -v to get more diff\u001b[0m\n",
      "\n",
      "\u001b[1m\u001b[31mbasic/failure_demo.py\u001b[0m:20: AssertionError\n",
      "\u001b[31m\u001b[1m_________________________________ test_eq_set __________________________________\u001b[0m\n",
      "\n",
      "    \u001b[0m\u001b[94mdef\u001b[39;49;00m\u001b[90m \u001b[39;49;00m\u001b[92mtest_eq_set\u001b[39;49;00m():\u001b[90m\u001b[39;49;00m\n",
      ">       \u001b[94massert\u001b[39;49;00m {\u001b[94m0\u001b[39;49;00m, \u001b[94m10\u001b[39;49;00m, \u001b[94m11\u001b[39;49;00m, \u001b[94m12\u001b[39;49;00m} == {\u001b[94m0\u001b[39;49;00m, \u001b[94m20\u001b[39;49;00m, \u001b[94m21\u001b[39;49;00m}\u001b[90m\u001b[39;49;00m\n",
      "\u001b[1m\u001b[31mE       assert {0, 10, 11, 12} == {0, 20, 21}\u001b[0m\n",
      "\u001b[1m\u001b[31mE         \u001b[0m\n",
      "\u001b[1m\u001b[31mE         Extra items in the left set:\u001b[0m\n",
      "\u001b[1m\u001b[31mE         \u001b[0m\u001b[94m10\u001b[39;49;00m\u001b[90m\u001b[39;49;00m\u001b[0m\n",
      "\u001b[1m\u001b[31mE         \u001b[0m\u001b[94m11\u001b[39;49;00m\u001b[90m\u001b[39;49;00m\u001b[0m\n",
      "\u001b[1m\u001b[31mE         \u001b[0m\u001b[94m12\u001b[39;49;00m\u001b[90m\u001b[39;49;00m\u001b[0m\n",
      "\u001b[1m\u001b[31mE         Extra items in the right set:\u001b[0m\n",
      "\u001b[1m\u001b[31mE         \u001b[0m\u001b[94m20\u001b[39;49;00m\u001b[90m\u001b[39;49;00m\u001b[0m\n",
      "\u001b[1m\u001b[31mE         \u001b[0m\u001b[94m21\u001b[39;49;00m\u001b[90m\u001b[39;49;00m\u001b[0m\n",
      "\u001b[1m\u001b[31mE         Use -v to get more diff\u001b[0m\n",
      "\n",
      "\u001b[1m\u001b[31mbasic/failure_demo.py\u001b[0m:24: AssertionError\n",
      "\u001b[31m\u001b[1m_____________________________ test_eq_longer_list ______________________________\u001b[0m\n",
      "\n",
      "    \u001b[0m\u001b[94mdef\u001b[39;49;00m\u001b[90m \u001b[39;49;00m\u001b[92mtest_eq_longer_list\u001b[39;49;00m():\u001b[90m\u001b[39;49;00m\n",
      ">       \u001b[94massert\u001b[39;49;00m [\u001b[94m1\u001b[39;49;00m, \u001b[94m2\u001b[39;49;00m] == [\u001b[94m1\u001b[39;49;00m, \u001b[94m2\u001b[39;49;00m, \u001b[94m3\u001b[39;49;00m]\u001b[90m\u001b[39;49;00m\n",
      "\u001b[1m\u001b[31mE       assert [1, 2] == [1, 2, 3]\u001b[0m\n",
      "\u001b[1m\u001b[31mE         \u001b[0m\n",
      "\u001b[1m\u001b[31mE         Right contains one more item: \u001b[0m\u001b[94m3\u001b[39;49;00m\u001b[90m\u001b[39;49;00m\u001b[0m\n",
      "\u001b[1m\u001b[31mE         Use -v to get more diff\u001b[0m\n",
      "\n",
      "\u001b[1m\u001b[31mbasic/failure_demo.py\u001b[0m:28: AssertionError\n",
      "\u001b[31m\u001b[1m___________________________ test_not_in_text_single ____________________________\u001b[0m\n",
      "\n",
      "    \u001b[0m\u001b[94mdef\u001b[39;49;00m\u001b[90m \u001b[39;49;00m\u001b[92mtest_not_in_text_single\u001b[39;49;00m():\u001b[90m\u001b[39;49;00m\n",
      "        text = \u001b[33m\"\u001b[39;49;00m\u001b[33msingle foo line\u001b[39;49;00m\u001b[33m\"\u001b[39;49;00m\u001b[90m\u001b[39;49;00m\n",
      ">       \u001b[94massert\u001b[39;49;00m \u001b[33m\"\u001b[39;49;00m\u001b[33mfoo\u001b[39;49;00m\u001b[33m\"\u001b[39;49;00m \u001b[95mnot\u001b[39;49;00m \u001b[95min\u001b[39;49;00m text\u001b[90m\u001b[39;49;00m\n",
      "\u001b[1m\u001b[31mE       AssertionError: assert 'foo' not in 'single foo line'\u001b[0m\n",
      "\u001b[1m\u001b[31mE         \u001b[0m\n",
      "\u001b[1m\u001b[31mE         'foo' is contained here:\u001b[0m\n",
      "\u001b[1m\u001b[31mE           single foo line\u001b[0m\n",
      "\u001b[1m\u001b[31mE         ?        +++\u001b[0m\n",
      "\n",
      "\u001b[1m\u001b[31mbasic/failure_demo.py\u001b[0m:33: AssertionError\n",
      "\u001b[36m\u001b[1m=========================== short test summary info ============================\u001b[0m\n",
      "\u001b[31mFAILED\u001b[0m basic/failure_demo.py::\u001b[1mtest_eq_text\u001b[0m - AssertionError: assert 'spam' == 'eggs'\n",
      "\u001b[31mFAILED\u001b[0m basic/failure_demo.py::\u001b[1mtest_eq_similar_text\u001b[0m - AssertionError: assert 'foo 1 bar' == 'foo 2 bar'\n",
      "\u001b[31mFAILED\u001b[0m basic/failure_demo.py::\u001b[1mtest_eq_long_text\u001b[0m - AssertionError: assert '111111111111...2222222222222' == '111111111111...22...\n",
      "\u001b[31mFAILED\u001b[0m basic/failure_demo.py::\u001b[1mtest_eq_list\u001b[0m - assert [0, 1, 2] == [0, 1, 3]\n",
      "\u001b[31mFAILED\u001b[0m basic/failure_demo.py::\u001b[1mtest_eq_dict\u001b[0m - AssertionError: assert {'a': 0, 'b': 1} == {'a': 0, 'b': 2}\n",
      "\u001b[31mFAILED\u001b[0m basic/failure_demo.py::\u001b[1mtest_eq_set\u001b[0m - assert {0, 10, 11, 12} == {0, 20, 21}\n",
      "\u001b[31mFAILED\u001b[0m basic/failure_demo.py::\u001b[1mtest_eq_longer_list\u001b[0m - assert [1, 2] == [1, 2, 3]\n",
      "\u001b[31mFAILED\u001b[0m basic/failure_demo.py::\u001b[1mtest_not_in_text_single\u001b[0m - AssertionError: assert 'foo' not in 'single foo line'\n",
      "\u001b[31m============================== \u001b[31m\u001b[1m8 failed\u001b[0m\u001b[31m in 0.10s\u001b[0m\u001b[31m ===============================\u001b[0m\n"
     ]
    }
   ],
   "source": [
    "!pytest basic/failure_demo.py"
   ]
  },
  {
   "cell_type": "code",
   "execution_count": 6,
   "metadata": {},
   "outputs": [
    {
     "name": "stdout",
     "output_type": "stream",
     "text": [
      "\u001b[1m============================= test session starts ==============================\u001b[0m\n",
      "platform linux -- Python 3.13.1, pytest-8.4.1, pluggy-1.6.0\n",
      "rootdir: /home/florian/talks/trainings/2025-07-ep2025/demo/code\n",
      "configfile: pytest.ini\n",
      "plugins: anyio-4.9.0, md-0.2.0, xdist-3.8.0, pytest_httpserver-1.1.3, mock-3.14.1, reportlog-0.4.0, instafail-0.5.0, hypothesis-6.135.20, rich-0.2.0, cov-6.2.1\n",
      "collected 2 items                                                              \u001b[0m\n",
      "\n",
      "basic/test_traceback.py \u001b[31mF\u001b[0m\u001b[32m.\u001b[0m\u001b[31m                                               [100%]\u001b[0m\n",
      "\n",
      "=================================== FAILURES ===================================\n",
      "\u001b[31m\u001b[1m_________________________________ test_divide __________________________________\u001b[0m\n",
      "\n",
      "    \u001b[0m\u001b[94mdef\u001b[39;49;00m\u001b[90m \u001b[39;49;00m\u001b[92mtest_divide\u001b[39;49;00m():\u001b[90m\u001b[39;49;00m\n",
      "        \u001b[90m# This will raise ZeroDivisionError\u001b[39;49;00m\u001b[90m\u001b[39;49;00m\n",
      ">       \u001b[94massert\u001b[39;49;00m calc(\u001b[94m2\u001b[39;49;00m, \u001b[94m0\u001b[39;49;00m, \u001b[33m\"\u001b[39;49;00m\u001b[33m/\u001b[39;49;00m\u001b[33m\"\u001b[39;49;00m) == \u001b[94m0\u001b[39;49;00m\u001b[90m\u001b[39;49;00m\n",
      "               ^^^^^^^^^^^^^^^\u001b[90m\u001b[39;49;00m\n",
      "\n",
      "\u001b[1m\u001b[31mbasic/test_traceback.py\u001b[0m:5: \n",
      "_ _ _ _ _ _ _ _ _ _ _ _ _ _ _ _ _ _ _ _ _ _ _ _ _ _ _ _ _ _ _ _ _ _ _ _ _ _ _ _ \n",
      "\n",
      "a = 2, b = 0, op = '/'\n",
      "\n",
      "    \u001b[0m\u001b[94mdef\u001b[39;49;00m\u001b[90m \u001b[39;49;00m\u001b[92mcalc\u001b[39;49;00m(a, b, op):\u001b[90m\u001b[39;49;00m\n",
      "        \u001b[94mif\u001b[39;49;00m op == \u001b[33m\"\u001b[39;49;00m\u001b[33m+\u001b[39;49;00m\u001b[33m\"\u001b[39;49;00m:\u001b[90m\u001b[39;49;00m\n",
      "            \u001b[94mreturn\u001b[39;49;00m a + b\u001b[90m\u001b[39;49;00m\n",
      "        \u001b[94melif\u001b[39;49;00m op == \u001b[33m\"\u001b[39;49;00m\u001b[33m-\u001b[39;49;00m\u001b[33m\"\u001b[39;49;00m:\u001b[90m\u001b[39;49;00m\n",
      "            \u001b[94mreturn\u001b[39;49;00m a - b\u001b[90m\u001b[39;49;00m\n",
      "        \u001b[94melif\u001b[39;49;00m op == \u001b[33m\"\u001b[39;49;00m\u001b[33m*\u001b[39;49;00m\u001b[33m\"\u001b[39;49;00m:\u001b[90m\u001b[39;49;00m\n",
      "            \u001b[94mreturn\u001b[39;49;00m a * b\u001b[90m\u001b[39;49;00m\n",
      "        \u001b[94melif\u001b[39;49;00m op == \u001b[33m\"\u001b[39;49;00m\u001b[33m/\u001b[39;49;00m\u001b[33m\"\u001b[39;49;00m:\u001b[90m\u001b[39;49;00m\n",
      ">           \u001b[94mreturn\u001b[39;49;00m a / b\u001b[90m\u001b[39;49;00m\n",
      "                   ^^^^^\u001b[90m\u001b[39;49;00m\n",
      "\u001b[1m\u001b[31mE           ZeroDivisionError: division by zero\u001b[0m\n",
      "\n",
      "\u001b[1m\u001b[31mrpncalc/utils.py\u001b[0m:13: ZeroDivisionError\n",
      "\u001b[36m\u001b[1m=========================== short test summary info ============================\u001b[0m\n",
      "\u001b[31mFAILED\u001b[0m basic/test_traceback.py::\u001b[1mtest_divide\u001b[0m - ZeroDivisionError: division by zero\n",
      "\u001b[31m========================= \u001b[31m\u001b[1m1 failed\u001b[0m, \u001b[32m1 passed\u001b[0m\u001b[31m in 0.09s\u001b[0m\u001b[31m ==========================\u001b[0m\n"
     ]
    }
   ],
   "source": [
    "!pytest basic/test_traceback.py"
   ]
  },
  {
   "cell_type": "markdown",
   "metadata": {},
   "source": [
    "# raises"
   ]
  },
  {
   "cell_type": "code",
   "execution_count": 7,
   "metadata": {},
   "outputs": [],
   "source": [
    "def parse_pos_int(s: str) -> int:\n",
    "    n = int(s)\n",
    "    if n < 0:\n",
    "        raise ValueError(f\"No negativity allowed, but got {n}\")\n",
    "    return n"
   ]
  },
  {
   "cell_type": "code",
   "execution_count": 8,
   "metadata": {},
   "outputs": [
    {
     "data": {
      "text/plain": [
       "5"
      ]
     },
     "execution_count": 8,
     "metadata": {},
     "output_type": "execute_result"
    }
   ],
   "source": [
    "parse_pos_int(\"5\")"
   ]
  },
  {
   "cell_type": "code",
   "execution_count": 9,
   "metadata": {},
   "outputs": [
    {
     "ename": "ValueError",
     "evalue": "No negativity allowed, but got -2",
     "output_type": "error",
     "traceback": [
      "\u001b[31m---------------------------------------------------------------------------\u001b[39m",
      "\u001b[31mValueError\u001b[39m                                Traceback (most recent call last)",
      "\u001b[36mCell\u001b[39m\u001b[36m \u001b[39m\u001b[32mIn[9]\u001b[39m\u001b[32m, line 1\u001b[39m\n\u001b[32m----> \u001b[39m\u001b[32m1\u001b[39m \u001b[43mparse_pos_int\u001b[49m\u001b[43m(\u001b[49m\u001b[33;43m\"\u001b[39;49m\u001b[33;43m-2\u001b[39;49m\u001b[33;43m\"\u001b[39;49m\u001b[43m)\u001b[49m\n",
      "\u001b[36mCell\u001b[39m\u001b[36m \u001b[39m\u001b[32mIn[7]\u001b[39m\u001b[32m, line 4\u001b[39m, in \u001b[36mparse_pos_int\u001b[39m\u001b[34m(s)\u001b[39m\n\u001b[32m      2\u001b[39m n = \u001b[38;5;28mint\u001b[39m(s)\n\u001b[32m      3\u001b[39m \u001b[38;5;28;01mif\u001b[39;00m n < \u001b[32m0\u001b[39m:\n\u001b[32m----> \u001b[39m\u001b[32m4\u001b[39m     \u001b[38;5;28;01mraise\u001b[39;00m \u001b[38;5;167;01mValueError\u001b[39;00m(\u001b[33mf\u001b[39m\u001b[33m\"\u001b[39m\u001b[33mNo negativity allowed, but got \u001b[39m\u001b[38;5;132;01m{\u001b[39;00mn\u001b[38;5;132;01m}\u001b[39;00m\u001b[33m\"\u001b[39m)\n\u001b[32m      5\u001b[39m \u001b[38;5;28;01mreturn\u001b[39;00m n\n",
      "\u001b[31mValueError\u001b[39m: No negativity allowed, but got -2"
     ]
    }
   ],
   "source": [
    "parse_pos_int(\"-2\")"
   ]
  },
  {
   "cell_type": "code",
   "execution_count": 10,
   "metadata": {},
   "outputs": [
    {
     "ename": "ValueError",
     "evalue": "invalid literal for int() with base 10: 'a'",
     "output_type": "error",
     "traceback": [
      "\u001b[31m---------------------------------------------------------------------------\u001b[39m",
      "\u001b[31mValueError\u001b[39m                                Traceback (most recent call last)",
      "\u001b[36mCell\u001b[39m\u001b[36m \u001b[39m\u001b[32mIn[10]\u001b[39m\u001b[32m, line 1\u001b[39m\n\u001b[32m----> \u001b[39m\u001b[32m1\u001b[39m \u001b[43mparse_pos_int\u001b[49m\u001b[43m(\u001b[49m\u001b[33;43m\"\u001b[39;49m\u001b[33;43ma\u001b[39;49m\u001b[33;43m\"\u001b[39;49m\u001b[43m)\u001b[49m\n",
      "\u001b[36mCell\u001b[39m\u001b[36m \u001b[39m\u001b[32mIn[7]\u001b[39m\u001b[32m, line 2\u001b[39m, in \u001b[36mparse_pos_int\u001b[39m\u001b[34m(s)\u001b[39m\n\u001b[32m      1\u001b[39m \u001b[38;5;28;01mdef\u001b[39;00m\u001b[38;5;250m \u001b[39m\u001b[34mparse_pos_int\u001b[39m(s: \u001b[38;5;28mstr\u001b[39m) -> \u001b[38;5;28mint\u001b[39m:\n\u001b[32m----> \u001b[39m\u001b[32m2\u001b[39m     n = \u001b[38;5;28;43mint\u001b[39;49m\u001b[43m(\u001b[49m\u001b[43ms\u001b[49m\u001b[43m)\u001b[49m\n\u001b[32m      3\u001b[39m     \u001b[38;5;28;01mif\u001b[39;00m n < \u001b[32m0\u001b[39m:\n\u001b[32m      4\u001b[39m         \u001b[38;5;28;01mraise\u001b[39;00m \u001b[38;5;167;01mValueError\u001b[39;00m(\u001b[33mf\u001b[39m\u001b[33m\"\u001b[39m\u001b[33mNo negativity allowed, but got \u001b[39m\u001b[38;5;132;01m{\u001b[39;00mn\u001b[38;5;132;01m}\u001b[39;00m\u001b[33m\"\u001b[39m)\n",
      "\u001b[31mValueError\u001b[39m: invalid literal for int() with base 10: 'a'"
     ]
    }
   ],
   "source": [
    "parse_pos_int(\"a\")"
   ]
  },
  {
   "cell_type": "code",
   "execution_count": 17,
   "metadata": {},
   "outputs": [
    {
     "name": "stdout",
     "output_type": "stream",
     "text": [
      "\u001b[1m======================================= test session starts ========================================\u001b[0m\n",
      "collected 3 items\n",
      "\n",
      "t_47e85ff7049145cbbfc6f9b3aeff836e.py \u001b[32m.\u001b[0m\u001b[32m.\u001b[0m\u001b[32m.\u001b[0m\u001b[32m                                                    [100%]\u001b[0m\n",
      "\n",
      "\u001b[32m======================================== \u001b[32m\u001b[1m3 passed\u001b[0m\u001b[32m in 0.00s\u001b[0m\u001b[32m =========================================\u001b[0m\n"
     ]
    }
   ],
   "source": [
    "%%ipytest\n",
    "import pytest\n",
    "\n",
    "def test_good():\n",
    "    assert parse_pos_int(\"5\") == 5\n",
    "\n",
    "def test_negative():\n",
    "    with pytest.raises(ValueError, match=r\"No negativity allowed\"):\n",
    "        parse_pos_int(\"-2\")\n",
    "\n",
    "def test_invalid():\n",
    "    with pytest.raises(ValueError, match=r\"invalid literal for int\"):\n",
    "        parse_pos_int(\"a\")"
   ]
  },
  {
   "cell_type": "code",
   "execution_count": 18,
   "metadata": {},
   "outputs": [],
   "source": [
    "%%ipytest\n",
    "import pytest\n",
    "\n",
    "from rpncalc.rpn_v2 import RPNCalculator\n",
    "from rpncalc.utils import Config\n",
    "\n",
    "\n",
    "# exercise: [fixtures]\n",
    "@pytest.fixture\n",
    "def rpn() -> RPNCalculator:\n",
    "    return RPNCalculator(Config())\n",
    "\n",
    "\n",
    "@pytest.mark.parametrize(\n",
    "    \"op, expected\",\n",
    "    [\n",
    "        (\"+\", 3),\n",
    "        (\"-\", -1),\n",
    "        (\"*\", 2),\n",
    "        (\"/\", 0.5),\n",
    "    ],\n",
    ")\n",
    "def test_operations(op: str, expected: float, rpn: RPNCalculator):\n",
    "    rpn.stack = [1, 2]\n",
    "    rpn.evaluate(op)\n",
    "    assert rpn.stack == [expected]"
   ]
  },
  {
   "cell_type": "markdown",
   "metadata": {},
   "source": [
    "# monkeypatch"
   ]
  },
  {
   "cell_type": "code",
   "execution_count": 28,
   "metadata": {},
   "outputs": [
    {
     "name": "stdout",
     "output_type": "stream",
     "text": [
      "\u001b[1m======================================= test session starts ========================================\u001b[0m\n",
      "\u001b[1mcollecting ... \u001b[0mcollected 3 items\n",
      "\n",
      "t_47e85ff7049145cbbfc6f9b3aeff836e.py::test_run[add] \u001b[32mPASSED\u001b[0m\u001b[32m                                  [ 33%]\u001b[0m\n",
      "t_47e85ff7049145cbbfc6f9b3aeff836e.py::test_run[print] \u001b[32mPASSED\u001b[0m\u001b[32m                                [ 66%]\u001b[0m\n",
      "t_47e85ff7049145cbbfc6f9b3aeff836e.py::test_run[div0] \u001b[32mPASSED\u001b[0m\u001b[32m                                 [100%]\u001b[0m\n",
      "\n",
      "\u001b[32m======================================== \u001b[32m\u001b[1m3 passed\u001b[0m\u001b[32m in 0.01s\u001b[0m\u001b[32m =========================================\u001b[0m\n"
     ]
    }
   ],
   "source": [
    "%%ipytest -v\n",
    "\n",
    "import pytest\n",
    "\n",
    "from rpncalc.rpn_v2 import RPNCalculator\n",
    "from rpncalc.utils import Config\n",
    "\n",
    "\n",
    "@pytest.fixture\n",
    "def rpn() -> RPNCalculator:\n",
    "    return RPNCalculator(Config())\n",
    "\n",
    "\n",
    "@pytest.mark.parametrize(\"inputs, stack, expected_out, expected_err\", [\n",
    "    pytest.param([\"1\", \"2\", \"+\", \"q\"], [3], \"3.0\\n\", \"\", id=\"add\"),\n",
    "    pytest.param([\"1\", \"2\", \"p\", \"q\"], [1, 2], \"[1.0, 2.0]\\n\", \"\", id=\"print\"),\n",
    "    pytest.param([\"1\", \"0\", \"/\", \"q\"], [], \"\", \"Division by zero\\n\", id=\"div0\"),\n",
    "])\n",
    "def test_run(\n",
    "    rpn: RPNCalculator,\n",
    "    monkeypatch: pytest.MonkeyPatch,\n",
    "    capfd: pytest.CaptureFixture[str],\n",
    "    inputs: list[str],\n",
    "    stack: list[float],\n",
    "    expected_out: str,\n",
    "    expected_err: str,\n",
    "):\n",
    "    monkeypatch.setattr(rpn, \"get_inputs\", lambda: inputs)\n",
    "    rpn.run()\n",
    "    assert rpn.stack == stack\n",
    "    out, err = capfd.readouterr()\n",
    "    assert out == expected_out\n",
    "    assert err == expected_err"
   ]
  },
  {
   "cell_type": "markdown",
   "metadata": {},
   "source": [
    "# tmp_path"
   ]
  },
  {
   "cell_type": "code",
   "execution_count": 30,
   "metadata": {},
   "outputs": [
    {
     "name": "stdout",
     "output_type": "stream",
     "text": [
      "\u001b[1m======================================= test session starts ========================================\u001b[0m\n",
      "collected 2 items\n",
      "\n",
      "t_47e85ff7049145cbbfc6f9b3aeff836e.py \u001b[32m.\u001b[0m\u001b[32m.\u001b[0m\u001b[32m                                                     [100%]\u001b[0m\n",
      "\n",
      "\u001b[32m======================================== \u001b[32m\u001b[1m2 passed\u001b[0m\u001b[32m in 0.00s\u001b[0m\u001b[32m =========================================\u001b[0m\n"
     ]
    }
   ],
   "source": [
    "%%ipytest\n",
    "from pathlib import Path\n",
    "\n",
    "import pytest\n",
    "\n",
    "from rpncalc.utils import Config\n",
    "\n",
    "\n",
    "@pytest.fixture\n",
    "def config():\n",
    "    return Config()\n",
    "\n",
    "\n",
    "@pytest.fixture\n",
    "def ini_path(tmp_path: Path) -> Path:\n",
    "    return tmp_path / \"rpncalc.ini\"\n",
    "\n",
    "\n",
    "@pytest.fixture\n",
    "def example_ini(ini_path: Path) -> Path:\n",
    "    # creates rpncalc.ini with pathlib\n",
    "    ini_path.write_text(\n",
    "        \"[rpncalc]\\n\"\n",
    "        \"prompt = rpn>\\n\")\n",
    "    return ini_path\n",
    "\n",
    "\n",
    "# exercise: [load-save]\n",
    "\n",
    "def test_config_load(\n",
    "    example_ini: Path, config: Config\n",
    "):\n",
    "    assert config.prompt == \">\"  # sanity check\n",
    "    config.load(example_ini)\n",
    "    assert config.prompt == \"rpn>\"\n",
    "\n",
    "\n",
    "def test_config_save(\n",
    "    ini_path: Path, config: Config\n",
    "):\n",
    "    assert not ini_path.exists()  # sanity check\n",
    "    config.save(ini_path)\n",
    "    assert ini_path.exists()\n"
   ]
  },
  {
   "cell_type": "code",
   "execution_count": 31,
   "metadata": {},
   "outputs": [
    {
     "data": {
      "text/plain": [
       "\u001b[38;5;28;01mimport\u001b[39;00m pytest\n",
       "\u001b[38;5;28;01mimport\u001b[39;00m time\n",
       "\u001b[38;5;28;01mfrom\u001b[39;00m rpncalc.rpn_v2 \u001b[38;5;28;01mimport\u001b[39;00m RPNCalculator, Config\n",
       "\n",
       "\n",
       "@pytest.fixture(scope=\u001b[33m\"module\"\u001b[39m)\n",
       "\u001b[38;5;28;01mdef\u001b[39;00m rpn_instance() -> RPNCalculator:\n",
       "    time.sleep(\u001b[32m2\u001b[39m)\n",
       "    \u001b[38;5;28;01mreturn\u001b[39;00m RPNCalculator(Config())\n",
       "\n",
       "\n",
       "@pytest.fixture\n",
       "\u001b[38;5;28;01mdef\u001b[39;00m rpn(\n",
       "    rpn_instance: RPNCalculator,\n",
       ") -> RPNCalculator:\n",
       "    rpn_instance.stack.clear()\n",
       "    \u001b[38;5;28;01mreturn\u001b[39;00m rpn_instance\n",
       "\n",
       "\n",
       "\u001b[38;5;28;01mdef\u001b[39;00m test_a(rpn: RPNCalculator):\n",
       "    rpn.stack.append(\u001b[32m42\u001b[39m)\n",
       "    \u001b[38;5;28;01massert\u001b[39;00m rpn.stack == [\u001b[32m42\u001b[39m]\n",
       "\n",
       "\n",
       "\u001b[38;5;28;01mdef\u001b[39;00m test_b(rpn: RPNCalculator):\n",
       "    \u001b[38;5;28;01massert\u001b[39;00m \u001b[38;5;28;01mnot\u001b[39;00m rpn.stack\n"
      ]
     },
     "metadata": {},
     "output_type": "display_data"
    }
   ],
   "source": [
    "%pycat fixtures/test_fixture_scope_reset.py"
   ]
  }
 ],
 "metadata": {
  "kernelspec": {
   "display_name": "Python 3 (ipykernel)",
   "language": "python",
   "name": "python3"
  },
  "language_info": {
   "codemirror_mode": {
    "name": "ipython",
    "version": 3
   },
   "file_extension": ".py",
   "mimetype": "text/x-python",
   "name": "python",
   "nbconvert_exporter": "python",
   "pygments_lexer": "ipython3",
   "version": "3.13.1"
  }
 },
 "nbformat": 4,
 "nbformat_minor": 4
}
